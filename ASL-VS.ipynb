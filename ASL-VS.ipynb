{
 "cells": [
  {
   "cell_type": "code",
   "execution_count": 9,
   "metadata": {},
   "outputs": [],
   "source": [
    "import numpy as np\n",
    "import os\n",
    "import mediapipe as mp\n",
    "import cv2\n",
    "import keyboard\n",
    "from tensorflow.keras.models import load_model"
   ]
  },
  {
   "cell_type": "code",
   "execution_count": 4,
   "metadata": {},
   "outputs": [],
   "source": [
    "from tensorflow.keras.models import Sequential\n",
    "from tensorflow.keras.layers import LSTM, Dense\n",
    "from sklearn.model_selection import train_test_split\n",
    "from tensorflow.keras.utils import to_categorical\n",
    "from itertools import product\n",
    "from sklearn import metrics"
   ]
  },
  {
   "cell_type": "code",
   "execution_count": 83,
   "metadata": {},
   "outputs": [],
   "source": [
    "import os\n",
    "from PIL import Image\n",
    "import matplotlib.pyplot as plt\n",
    "\n",
    "def load_images_from_dir(image_dir):\n",
    "    images = []\n",
    "\n",
    "    for dirpath, _, filenames in os.walk(image_dir):\n",
    "        for filename in filenames:\n",
    "            if filename.lower().endswith(('.png', '.jpg', '.jpeg')):\n",
    "                file_path = os.path.join(dirpath, filename)\n",
    "                image = Image.open(file_path)\n",
    "                images.append(image)\n",
    "                \n",
    "\n",
    "    return images\n"
   ]
  },
  {
   "cell_type": "code",
   "execution_count": 84,
   "metadata": {},
   "outputs": [],
   "source": [
    "image_path = '/Users/samannazir/Downloads/drive-download-20230802T115830Z-001'\n",
    "train_images = load_images_from_dir(image_path)\n"
   ]
  },
  {
   "cell_type": "code",
   "execution_count": 85,
   "metadata": {},
   "outputs": [],
   "source": [
    "\n",
    "# Assuming you want to display the first image in the train_images list\n",
    "if len(train_images) > 0:\n",
    "    first_image = train_images[0]\n",
    "\n",
    "    # Verify the size of the first_image\n",
    "    print(\"Size of the first_image:\", first_image.size)\n",
    "\n",
    "    # Display the first image\n",
    "    plt.imshow(first_image)\n",
    "    plt.axis('off')\n",
    "    plt.show()"
   ]
  },
  {
   "cell_type": "code",
   "execution_count": 86,
   "metadata": {},
   "outputs": [],
   "source": [
    "if len(train_images) > 0:\n",
    "    first_image = train_images[0]\n",
    "\n",
    "    # Verify the shape of the first_image\n",
    "    print(\"Shape of the first_image:\", first_image.shape)\n",
    "\n",
    "    # Display the first image using plt.imshow()\n",
    "    plt.imshow(first_image, cmap='gray')  # Use 'gray' colormap for grayscale images\n",
    "    plt.axis('off')  # Turn off axis labels\n",
    "    plt.show()"
   ]
  },
  {
   "cell_type": "code",
   "execution_count": 88,
   "metadata": {},
   "outputs": [],
   "source": [
    "if len(train_images) > 0:\n",
    "    first_image = train_images[0]\n",
    "\n",
    "    # Print the shape of the first_image\n",
    "    print(\"Shape of the first_image:\", first_image.shape)"
   ]
  },
  {
   "cell_type": "code",
   "execution_count": null,
   "metadata": {},
   "outputs": [],
   "source": []
  },
  {
   "cell_type": "code",
   "execution_count": 82,
   "metadata": {},
   "outputs": [
    {
     "name": "stdout",
     "output_type": "stream",
     "text": [
      "Total elements in train_images: 0\n"
     ]
    }
   ],
   "source": [
    "total_elements = sum(len(inner_list) for inner_list in train_images)\n",
    "\n",
    "print(\"Total elements in train_images:\", total_elements)\n"
   ]
  },
  {
   "cell_type": "code",
   "execution_count": 16,
   "metadata": {},
   "outputs": [
    {
     "ename": "FileNotFoundError",
     "evalue": "[Errno 2] No such file or directory: 'https://drive.google.com/drive/folders/1LP_iidratliw-DAd3nUyMznbNbtT7OIe'",
     "output_type": "error",
     "traceback": [
      "\u001b[0;31m---------------------------------------------------------------------------\u001b[0m",
      "\u001b[0;31mFileNotFoundError\u001b[0m                         Traceback (most recent call last)",
      "Cell \u001b[0;32mIn[16], line 5\u001b[0m\n\u001b[1;32m      2\u001b[0m PATH \u001b[39m=\u001b[39m os\u001b[39m.\u001b[39mpath\u001b[39m.\u001b[39mjoin(\u001b[39m'\u001b[39m\u001b[39mhttps://drive.google.com/drive/folders/1LP_iidratliw-DAd3nUyMznbNbtT7OIe\u001b[39m\u001b[39m'\u001b[39m)\n\u001b[1;32m      4\u001b[0m \u001b[39m# Create an array of actions (signs) labels by listing the contents of the data directory\u001b[39;00m\n\u001b[0;32m----> 5\u001b[0m actions \u001b[39m=\u001b[39m np\u001b[39m.\u001b[39marray(os\u001b[39m.\u001b[39;49mlistdir(PATH))\n\u001b[1;32m      8\u001b[0m \u001b[39m# Define the number of sequences and frames\u001b[39;00m\n\u001b[1;32m      9\u001b[0m sequences \u001b[39m=\u001b[39m \u001b[39m30\u001b[39m\n",
      "\u001b[0;31mFileNotFoundError\u001b[0m: [Errno 2] No such file or directory: 'https://drive.google.com/drive/folders/1LP_iidratliw-DAd3nUyMznbNbtT7OIe'"
     ]
    }
   ],
   "source": [
    "\n",
    "\n",
    "# Set the path to the data directory\n",
    "PATH = os.path.join('/Users/samannazir/Downloads/drive-download-20230802T115830Z-001')\n",
    "\n",
    "# Create an array of actions (signs) labels by listing the contents of the data directory\n",
    "actions = np.array(os.listdir(PATH))\n",
    "\n",
    "\n",
    "# Define the number of sequences and frames\n",
    "sequences = 30\n",
    "frames = 10\n",
    "\n",
    "# Create a label map to map each action label to a numeric value\n",
    "label_map = {label:num for num, label in enumerate(actions)}\n",
    "\n",
    "# Initialize empty lists to store landmarks and labels\n",
    "landmarks, labels = [], []\n",
    "\n",
    "# Iterate over actions and sequences to load landmarks and corresponding labels\n",
    "for action in actions:\n",
    "    for sequence in range(sequences):\n",
    "        temp = []\n",
    "        for frame in range(frames):\n",
    "            npy = np.load(os.path.join(PATH, action, str(sequence), str(frame) + '.npy'))\n",
    "            temp.append(npy)\n",
    "        landmarks.append(temp)\n",
    "        labels.append(label_map[action])\n",
    "\n",
    "# Convert landmarks and labels to numpy arrays\n",
    "X, Y = np.array(landmarks), to_categorical(labels).astype(int)\n",
    "\n",
    "# Split the data into training and testing sets\n",
    "X_train, X_test, Y_train, Y_test = train_test_split(X, Y, test_size=0.10, random_state=34, stratify=Y)\n",
    "\n",
    "# Define the model architecture\n",
    "model = Sequential()\n",
    "model.add(LSTM(32, return_sequences=True, activation='relu', input_shape=(10,126)))\n",
    "model.add(LSTM(64, return_sequences=True, activation='relu'))\n",
    "model.add(LSTM(32, return_sequences=False, activation='relu'))\n",
    "model.add(Dense(32, activation='relu'))\n",
    "model.add(Dense(actions.shape[0], activation='softmax'))\n",
    "\n",
    "# Compile the model with Adam optimizer and categorical cross-entropy loss\n",
    "model.compile(optimizer='Adam', loss='categorical_crossentropy', metrics=['categorical_accuracy'])\n",
    "# Train the model\n",
    "model.fit(X_train, Y_train, epochs=100)\n",
    "\n",
    "# Save the trained model\n",
    "model.save('my_model')\n",
    "\n",
    "# Make predictions on the test set\n",
    "predictions = np.argmax(model.predict(X_test), axis=1)\n",
    "# Get the true labels from the test set\n",
    "test_labels = np.argmax(Y_test, axis=1)\n",
    "\n",
    "# Calculate the accuracy of the predictions\n",
    "accuracy = metrics.accuracy_score(test_labels, predictions)"
   ]
  },
  {
   "cell_type": "code",
   "execution_count": 17,
   "metadata": {},
   "outputs": [
    {
     "ename": "NotADirectoryError",
     "evalue": "[Errno 20] Not a directory: '/Users/samannazir/Downloads/drive-download-20230802T115830Z-001/B/176.png'",
     "output_type": "error",
     "traceback": [
      "\u001b[0;31m---------------------------------------------------------------------------\u001b[0m",
      "\u001b[0;31mNotADirectoryError\u001b[0m                        Traceback (most recent call last)",
      "Cell \u001b[0;32mIn[17], line 17\u001b[0m\n\u001b[1;32m     15\u001b[0m \u001b[39mfor\u001b[39;00m action_index, action \u001b[39min\u001b[39;00m \u001b[39menumerate\u001b[39m(actions):\n\u001b[1;32m     16\u001b[0m     action_path \u001b[39m=\u001b[39m os\u001b[39m.\u001b[39mpath\u001b[39m.\u001b[39mjoin(dataset_path, action)\n\u001b[0;32m---> 17\u001b[0m     \u001b[39mfor\u001b[39;00m filename \u001b[39min\u001b[39;00m os\u001b[39m.\u001b[39;49mlistdir(action_path):\n\u001b[1;32m     18\u001b[0m         image_path \u001b[39m=\u001b[39m os\u001b[39m.\u001b[39mpath\u001b[39m.\u001b[39mjoin(action_path, filename)\n\u001b[1;32m     19\u001b[0m         \u001b[39m# Read the image using OpenCV\u001b[39;00m\n",
      "\u001b[0;31mNotADirectoryError\u001b[0m: [Errno 20] Not a directory: '/Users/samannazir/Downloads/drive-download-20230802T115830Z-001/B/176.png'"
     ]
    }
   ],
   "source": [
    "import os\n",
    "import cv2\n",
    "import numpy as np\n",
    "\n",
    "# Set the path to your dataset directory\n",
    "dataset_path = '/Users/samannazir/Downloads/drive-download-20230802T115830Z-001/B'\n",
    "\n",
    "# Create an array of actions (signs) labels by listing the subdirectories in the dataset directory\n",
    "actions = np.array(os.listdir(dataset_path))\n",
    "\n",
    "# Initialize empty lists to store images and labels\n",
    "images, labels = [], []\n",
    "\n",
    "# Iterate over actions and load images and corresponding labels\n",
    "for action_index, action in enumerate(actions):\n",
    "    action_path = os.path.join(dataset_path, action)\n",
    "    for filename in os.listdir(action_path):\n",
    "        image_path = os.path.join(action_path, filename)\n",
    "        # Read the image using OpenCV\n",
    "        image = cv2.imread(image_path)\n",
    "        # Preprocess the image as needed (e.g., resize, convert to grayscale, etc.)\n",
    "        # ...\n",
    "        # Append the preprocessed image to the images list\n",
    "        images.append(image)\n",
    "        # Append the label (action index) to the labels list\n",
    "        labels.append(action_index)\n",
    "\n",
    "# Convert images and labels to numpy arrays\n",
    "X = np.array(images)\n",
    "Y = np.array(labels)\n"
   ]
  },
  {
   "cell_type": "code",
   "execution_count": null,
   "metadata": {},
   "outputs": [],
   "source": []
  }
 ],
 "metadata": {
  "kernelspec": {
   "display_name": "Python 3",
   "language": "python",
   "name": "python3"
  },
  "language_info": {
   "codemirror_mode": {
    "name": "ipython",
    "version": 3
   },
   "file_extension": ".py",
   "mimetype": "text/x-python",
   "name": "python",
   "nbconvert_exporter": "python",
   "pygments_lexer": "ipython3",
   "version": "3.9.6"
  },
  "orig_nbformat": 4
 },
 "nbformat": 4,
 "nbformat_minor": 2
}
